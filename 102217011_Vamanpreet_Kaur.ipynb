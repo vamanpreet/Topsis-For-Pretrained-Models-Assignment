{
 "cells": [
  {
   "cell_type": "code",
   "execution_count": 1,
   "metadata": {},
   "outputs": [],
   "source": [
    "import numpy as np\n",
    "import pandas as pd"
   ]
  },
  {
   "cell_type": "code",
   "execution_count": 2,
   "metadata": {},
   "outputs": [],
   "source": [
    "data = np.array([\n",
    "    [0.85, 0.80, 0.5, 100],  # Model A\n",
    "    [0.90, 0.85, 0.4, 120],  # Model B\n",
    "    [0.88, 0.82, 0.6, 90],   # Model C\n",
    "    [0.86, 0.83, 0.45, 110]  # Model D\n",
    "])"
   ]
  },
  {
   "cell_type": "code",
   "execution_count": 3,
   "metadata": {},
   "outputs": [],
   "source": [
    "criteria_weights = np.array([0.4, 0.3, 0.2, 0.1])\n",
    "benefit_criteria = [True, True, False, False] "
   ]
  },
  {
   "cell_type": "code",
   "execution_count": 4,
   "metadata": {},
   "outputs": [],
   "source": [
    "norm_matrix = data / np.sqrt((data**2).sum(axis=0))\n",
    "weighted_matrix = norm_matrix * criteria_weights"
   ]
  },
  {
   "cell_type": "code",
   "execution_count": 5,
   "metadata": {},
   "outputs": [],
   "source": [
    "ideal_solution = np.max(weighted_matrix, axis=0) * np.array(benefit_criteria) + \\\n",
    "                 np.min(weighted_matrix, axis=0) * np.array(~np.array(benefit_criteria))\n",
    "\n",
    "negative_ideal_solution = np.min(weighted_matrix, axis=0) * np.array(benefit_criteria) + \\\n",
    "                          np.max(weighted_matrix, axis=0) * np.array(~np.array(benefit_criteria))"
   ]
  },
  {
   "cell_type": "code",
   "execution_count": 6,
   "metadata": {},
   "outputs": [],
   "source": [
    "distance_to_ideal = np.sqrt(((weighted_matrix - ideal_solution) ** 2).sum(axis=1))\n",
    "distance_to_negative_ideal = np.sqrt(((weighted_matrix - negative_ideal_solution) ** 2).sum(axis=1))"
   ]
  },
  {
   "cell_type": "code",
   "execution_count": 7,
   "metadata": {},
   "outputs": [],
   "source": [
    "topsis_score = distance_to_negative_ideal / (distance_to_ideal + distance_to_negative_ideal)"
   ]
  },
  {
   "cell_type": "code",
   "execution_count": 9,
   "metadata": {},
   "outputs": [],
   "source": [
    "rankings = np.argsort(topsis_score)[::-1]  \n",
    "df_results = pd.DataFrame({\n",
    "    \"Model\": [\"Model A\", \"Model B\", \"Model C\", \"Model D\"],\n",
    "    \"TOPSIS Score\": topsis_score,\n",
    "    \"Rank\": np.argsort(-topsis_score) + 1\n",
    "})"
   ]
  },
  {
   "cell_type": "code",
   "execution_count": 10,
   "metadata": {},
   "outputs": [
    {
     "name": "stdout",
     "output_type": "stream",
     "text": [
      "     Model  TOPSIS Score  Rank\n",
      "0  Model A      0.467953     2\n",
      "1  Model B      0.752188     4\n",
      "2  Model C      0.282254     1\n",
      "3  Model D      0.648102     3\n"
     ]
    }
   ],
   "source": [
    "print(df_results)"
   ]
  }
 ],
 "metadata": {
  "kernelspec": {
   "display_name": "Python 3",
   "language": "python",
   "name": "python3"
  },
  "language_info": {
   "codemirror_mode": {
    "name": "ipython",
    "version": 3
   },
   "file_extension": ".py",
   "mimetype": "text/x-python",
   "name": "python",
   "nbconvert_exporter": "python",
   "pygments_lexer": "ipython3",
   "version": "3.12.3"
  }
 },
 "nbformat": 4,
 "nbformat_minor": 2
}
